{
 "cells": [
  {
   "cell_type": "markdown",
   "metadata": {},
   "source": [
    "# San Francisco Rental Prices Dashboard\n",
    "\n",
    "In this notebook, you will compile the visualizations from the previous analysis into functions that can be used for a Panel dashboard."
   ]
  },
  {
   "cell_type": "code",
   "execution_count": 5,
   "metadata": {},
   "outputs": [],
   "source": [
    "# imports\n",
    "import panel as pn\n",
    "pn.extension('plotly')\n",
    "import plotly.express as px\n",
    "import pandas as pd\n",
    "import hvplot.pandas\n",
    "import numpy as np\n",
    "import matplotlib.pyplot as plt\n",
    "import os\n",
    "from pathlib import Path\n",
    "from dotenv import load_dotenv"
   ]
  },
  {
   "cell_type": "code",
   "execution_count": 10,
   "metadata": {},
   "outputs": [],
   "source": [
    "# Read the Mapbox API key\n",
    "load_dotenv(\"/Users/FinTech/PycharmProjects/Bootcamp/api_keys.env\")\n",
    "map_box_api = os.getenv(\"mapbox\")\n",
    "type(map_box_api)\n",
    "px.set_mapbox_access_token(map_box_api)"
   ]
  },
  {
   "cell_type": "markdown",
   "metadata": {},
   "source": [
    "# Import Data"
   ]
  },
  {
   "cell_type": "code",
   "execution_count": 12,
   "metadata": {},
   "outputs": [],
   "source": [
    "# Import the necessary CSVs to Pandas DataFrames\n",
    "\n",
    "# Read the census data into a Pandas DataFrame\n",
    "file_path = Path(\"Data/sfo_neighborhoods_census_data.csv\")\n",
    "sfo_data = pd.read_csv(file_path, index_col=\"year\")\n",
    "\n",
    "# Calculate the mean number of housing units per year (hint: use groupby) \n",
    "3avg_unit_by_year = sfo_data.groupby([\"year\"])[\"housing_units\"].mean()\n",
    "\n",
    "# Calculate the average sale price per square foot and average gross rent\n",
    "\n",
    "#avg_price_psf_by_year = sfo_data.groupby([\"year\"])[\"sale_price_sqr_foot\"].mean()\n",
    "\n",
    "#avg_gross_rent_by_year = sfo_data.groupby([\"year\"])[\"gross_rent\"].mean()\n",
    "\n",
    "# Group by year and neighborhood and then create a new dataframe of the mean values\n",
    "#avg_sale_price_sqr_foot_by_year_by_neighborhood = (sfo_data.groupby(['year', 'neighborhood'])['sale_price_sqr_foot'].mean())\n",
    "\n",
    "#avg_gross_rent_by_year_by_neighborhood = (sfo_data.groupby(['year', 'neighborhood'])['gross_rent'].mean())\n",
    "\n",
    "# Getting the data from the top 10 expensive neighborhoods to own\n",
    "#avg_sale_price_sqr_foot_by_neighborhood = (sfo_data.groupby(['neighborhood'])['sale_price_sqr_foot'].mean().sort_values(ascending=False))\n",
    "#top10_neighborhood = avg_sale_price_sqr_foot_by_neighborhood[:10]\n",
    "\n",
    "# Fetch the previously generated DataFrame that was grouped by year and neighborhood\n",
    "#avg_sale_rent = (sfo_data.groupby(['year','neighborhood'])['sale_price_sqr_foot','gross_rent'].mean())\n",
    "\n",
    "# Load neighborhoods coordinates data\n",
    "file_path2 = Path(\"Data/neighborhoods_coordinates.csv\")\n",
    "neigbh_coordinates = pd.read_csv(file_path2, index_col=\"Neighborhood\")\n",
    "\n",
    "# Join the average values with the neighborhood locations\n",
    "join_df = pd.concat([neigbh_coordinates, avg_sale_price_sqr_foot_by_neighborhood], axis=1, join='inner')\n",
    "\n",
    "# Fetch the data from all expensive neighborhoods per year.\n",
    "df_expensive_neighborhoods_per_year = sfo_data[sfo_data[\"neighborhood\"].isin(top10_neighborhood.index)]\n"
   ]
  },
  {
   "cell_type": "markdown",
   "metadata": {},
   "source": [
    "- - -"
   ]
  },
  {
   "cell_type": "markdown",
   "metadata": {},
   "source": [
    "## Panel Visualizations\n",
    "\n",
    "In this section, you will copy the code for each plot type from your analysis notebook and place it into separate functions that Panel can use to create panes for the dashboard. \n",
    "\n",
    "These functions will convert the plot object to a Panel pane.\n",
    "\n",
    "Be sure to include any DataFrame transformation/manipulation code required along with the plotting code.\n",
    "\n",
    "Return a Panel pane object from each function that can be used to build the dashboard.\n",
    "\n",
    "Note: Remove any `.show()` lines from the code. We want to return the plots instead of showing them. The Panel dashboard will then display the plots."
   ]
  },
  {
   "cell_type": "code",
   "execution_count": 15,
   "metadata": {},
   "outputs": [],
   "source": [
    "# Define Panel Visualization Functions\n",
    "def housing_units_per_year():\n",
    "    \"\"\"Housing Units Per Year.\"\"\"\n",
    "    \n",
    "    avg_unit_by_year = sfo_data.groupby([\"year\"])[\"housing_units\"].mean()\n",
    "\n",
    "\n",
    "def average_gross_rent():\n",
    "    \"\"\"Average Gross Rent in San Francisco Per Year.\"\"\"\n",
    "    \n",
    "    avg_gross_rent_by_year = sfo_data.groupby([\"year\"])[\"gross_rent\"].mean()\n",
    "\n",
    "\n",
    "\n",
    "def average_sales_price():\n",
    "    \"\"\"Average Sales Price Per Year.\"\"\"\n",
    "    \n",
    "    avg_price_psf_by_year = sfo_data.groupby([\"year\"])[\"sale_price_sqr_foot\"].mean()\n",
    "\n",
    "\n",
    "\n",
    "def average_price_by_neighborhood():\n",
    "    \"\"\"Average Prices by Neighborhood.\"\"\"\n",
    "    \n",
    "    avg_sale_price_sqr_foot_by_year_by_neighborhood = (sfo_data.groupby(['year', 'neighborhood'])['sale_price_sqr_foot'].mean())\n",
    "\n",
    "\n",
    "\n",
    "def top_most_expensive_neighborhoods():\n",
    "    \"\"\"Top 10 Most Expensive Neighborhoods.\"\"\"\n",
    "\n",
    "    avg_sale_price_sqr_foot_by_neighborhood = (sfo_data.groupby(['neighborhood'])['sale_price_sqr_foot'].mean().sort_values(ascending=False))\n",
    "    top10_neighborhood = avg_sale_price_sqr_foot_by_neighborhood[:10]\n",
    "\n",
    "\n",
    "def most_expensive_neighborhoods_rent_sales():\n",
    "    \"\"\"Comparison of Rent and Sales Prices of Most Expensive Neighborhoods.\"\"\"   \n",
    "    \n",
    "    avg_sale_rent = (sfo_data.groupby(['year','neighborhood'])['sale_price_sqr_foot','gross_rent'].mean())\n",
    "\n",
    "    \n",
    "    \n",
    "def parallel_coordinates():\n",
    "    \"\"\"Parallel Coordinates Plot.\"\"\"\n",
    "\n",
    "    px.parallel_coordinates(df_expensive_neighborhoods_per_year, color='sale_price_sqr_foot')\n",
    "\n",
    "\n",
    "\n",
    "def parallel_categories():\n",
    "    \"\"\"Parallel Categories Plot.\"\"\"\n",
    "    \n",
    "    px.parallel_categories(\n",
    "    df_expensive_neighborhoods_per_year,\n",
    "    dimensions=[\"neighborhood\", \"sale_price_sqr_foot\", \"housing_units\", \"gross_rent\"],\n",
    "    color=\"sale_price_sqr_foot\",\n",
    "    color_continuous_scale=px.colors.sequential.Inferno,\n",
    "    labels={\n",
    "        \"neighborhood\": \"Neighborhood\",\n",
    "        \"sale_price_sqr_foot\": \"Sale Price per Square Foot\",\n",
    "        \"housing_units\": \"Housing Units\",\n",
    "        \"gross_rent\": \"Gross Rent\",\n",
    "    },\n",
    ")\n",
    "\n",
    "\n",
    "\n",
    "def neighborhood_map():\n",
    "    \"\"\"Neighborhood Map.\"\"\"\n",
    "\n",
    "    map_plot = px.scatter_mapbox(\n",
    "    join_df,\n",
    "    lat=\"Lat\",\n",
    "    lon=\"Lon\",\n",
    "    size=\"sale_price_sqr_foot\",\n",
    "    color=join_df.index,\n",
    "    zoom=4\n",
    ")\n",
    "\n",
    "\n",
    "def sunburst():\n",
    "    \"\"\"Sunburst Plot.\"\"\"\n",
    "    \n",
    "    px.sunburst(df_expensive_neighborhoods_per_year, color='sale_price_sqr_foot')\n"
   ]
  },
  {
   "cell_type": "markdown",
   "metadata": {},
   "source": [
    "## Panel Dashboard\n",
    "\n",
    "In this section, you will combine all of the plots into a single dashboard view using Panel. Be creative with your dashboard design!"
   ]
  },
  {
   "cell_type": "code",
   "execution_count": 18,
   "metadata": {},
   "outputs": [
    {
     "data": {},
     "metadata": {},
     "output_type": "display_data"
    },
    {
     "data": {
      "application/vnd.holoviews_exec.v0+json": "",
      "text/html": [
       "<div id='1002'>\n",
       "\n",
       "\n",
       "\n",
       "\n",
       "\n",
       "  <div class=\"bk-root\" id=\"f47e232e-e958-492f-a361-927293989480\" data-root-id=\"1002\"></div>\n",
       "</div>\n",
       "<script type=\"application/javascript\">(function(root) {\n",
       "  function embed_document(root) {\n",
       "    var docs_json = {\"0027b8e7-76a2-4ae7-9d17-514e74931338\":{\"defs\":[],\"roots\":{\"references\":[{\"attributes\":{\"margin\":[5,5,5,5],\"name\":\"Str01689\"},\"id\":\"1005\",\"type\":\"panel.models.markup.HTML\"},{\"attributes\":{\"margin\":[5,5,5,5],\"name\":\"Str01705\"},\"id\":\"1016\",\"type\":\"panel.models.markup.HTML\"},{\"attributes\":{\"css_classes\":[\"markdown\"],\"margin\":[5,5,5,5],\"name\":\"Markdown01692\",\"text\":\"&lt;h2&gt;Housing Price Info&lt;/h2&gt;\"},\"id\":\"1008\",\"type\":\"panel.models.markup.HTML\"},{\"attributes\":{\"children\":[{\"id\":\"1014\"},{\"id\":\"1015\"},{\"id\":\"1016\"},{\"id\":\"1017\"}],\"margin\":[0,0,0,0],\"name\":\"Column01709\"},\"id\":\"1013\",\"type\":\"Column\"},{\"attributes\":{\"children\":[{\"id\":\"1020\"},{\"id\":\"1021\"},{\"id\":\"1022\"},{\"id\":\"1023\"}],\"margin\":[0,0,0,0],\"name\":\"Column01718\"},\"id\":\"1019\",\"type\":\"Column\"},{\"attributes\":{\"margin\":[5,5,5,5],\"name\":\"Str01694\"},\"id\":\"1009\",\"type\":\"panel.models.markup.HTML\"},{\"attributes\":{\"child\":{\"id\":\"1013\"},\"name\":\"Column01709\",\"title\":\"Housing Pirce by Neighorbood\"},\"id\":\"1018\",\"type\":\"Panel\"},{\"attributes\":{\"child\":{\"id\":\"1019\"},\"name\":\"Column01718\",\"title\":\"Parallel Analysis\"},\"id\":\"1024\",\"type\":\"Panel\"},{\"attributes\":{\"css_classes\":[\"markdown\"],\"margin\":[5,5,5,5],\"name\":\"Markdown01701\",\"text\":\"&lt;h2&gt;Housing Pirce by Neighorbood&lt;/h2&gt;\"},\"id\":\"1014\",\"type\":\"panel.models.markup.HTML\"},{\"attributes\":{\"margin\":[5,5,5,5],\"name\":\"Str01714\"},\"id\":\"1022\",\"type\":\"panel.models.markup.HTML\"},{\"attributes\":{\"client_comm_id\":\"90daa681830d4dbeb6f22d277ebb5aac\",\"comm_id\":\"5c6f29db69334e1480e7b930a858591d\",\"plot_id\":\"1002\"},\"id\":\"1025\",\"type\":\"panel.models.comm_manager.CommManager\"},{\"attributes\":{\"css_classes\":[\"markdown\"],\"margin\":[5,5,5,5],\"name\":\"Markdown01710\",\"text\":\"&lt;h2&gt;Parallel Analysis&lt;/h2&gt;\"},\"id\":\"1020\",\"type\":\"panel.models.markup.HTML\"},{\"attributes\":{\"css_classes\":[\"markdown\"],\"margin\":[5,5,5,5],\"name\":\"Markdown01687\",\"text\":\"&lt;h2&gt;Map&lt;/h2&gt;\"},\"id\":\"1004\",\"type\":\"panel.models.markup.HTML\"},{\"attributes\":{\"margin\":[5,5,5,5],\"name\":\"Str01712\"},\"id\":\"1021\",\"type\":\"panel.models.markup.HTML\"},{\"attributes\":{\"reload\":false},\"id\":\"1026\",\"type\":\"panel.models.location.Location\"},{\"attributes\":{\"child\":{\"id\":\"1007\"},\"name\":\"Column01700\",\"title\":\"Housing Price\"},\"id\":\"1012\",\"type\":\"Panel\"},{\"attributes\":{\"children\":[{\"id\":\"1008\"},{\"id\":\"1009\"},{\"id\":\"1010\"},{\"id\":\"1011\"}],\"margin\":[0,0,0,0],\"name\":\"Column01700\"},\"id\":\"1007\",\"type\":\"Column\"},{\"attributes\":{\"margin\":[5,5,5,5],\"name\":\"Str01696\"},\"id\":\"1010\",\"type\":\"panel.models.markup.HTML\"},{\"attributes\":{\"children\":[{\"id\":\"1004\"},{\"id\":\"1005\"}],\"margin\":[0,0,0,0],\"name\":\"Column01691\"},\"id\":\"1003\",\"type\":\"Column\"},{\"attributes\":{\"child\":{\"id\":\"1003\"},\"name\":\"Column01691\",\"title\":\"Welcome\"},\"id\":\"1006\",\"type\":\"Panel\"},{\"attributes\":{\"margin\":[5,5,5,5],\"name\":\"Str01716\"},\"id\":\"1023\",\"type\":\"panel.models.markup.HTML\"},{\"attributes\":{\"margin\":[5,5,5,5],\"name\":\"Str01698\"},\"id\":\"1011\",\"type\":\"panel.models.markup.HTML\"},{\"attributes\":{\"margin\":[5,5,5,5],\"name\":\"Str01707\"},\"id\":\"1017\",\"type\":\"panel.models.markup.HTML\"},{\"attributes\":{\"margin\":[0,0,0,0],\"tabs\":[{\"id\":\"1006\"},{\"id\":\"1012\"},{\"id\":\"1018\"},{\"id\":\"1024\"}]},\"id\":\"1002\",\"type\":\"Tabs\"},{\"attributes\":{\"margin\":[5,5,5,5],\"name\":\"Str01703\"},\"id\":\"1015\",\"type\":\"panel.models.markup.HTML\"}],\"root_ids\":[\"1002\",\"1025\",\"1026\"]},\"title\":\"Bokeh Application\",\"version\":\"2.3.1\"}};\n",
       "    var render_items = [{\"docid\":\"0027b8e7-76a2-4ae7-9d17-514e74931338\",\"root_ids\":[\"1002\"],\"roots\":{\"1002\":\"f47e232e-e958-492f-a361-927293989480\"}}];\n",
       "    root.Bokeh.embed.embed_items_notebook(docs_json, render_items);\n",
       "  }\n",
       "  if (root.Bokeh !== undefined && root.Bokeh.Panel !== undefined && root['Plotly'] !== undefined ) {\n",
       "    embed_document(root);\n",
       "  } else {\n",
       "    var attempts = 0;\n",
       "    var timer = setInterval(function(root) {\n",
       "      if (root.Bokeh !== undefined && root.Bokeh.Panel !== undefined && root['Plotly'] !== undefined) {\n",
       "        clearInterval(timer);\n",
       "        embed_document(root);\n",
       "      } else if (document.readyState == \"complete\") {\n",
       "        attempts++;\n",
       "        if (attempts > 100) {\n",
       "          clearInterval(timer);\n",
       "          console.log(\"Bokeh: ERROR: Unable to run BokehJS code because BokehJS library is missing\");\n",
       "        }\n",
       "      }\n",
       "    }, 10, root)\n",
       "  }\n",
       "})(window);</script>"
      ],
      "text/plain": [
       "Tabs\n",
       "    [0] Column\n",
       "        [0] Markdown(str)\n",
       "        [1] Str(None)\n",
       "    [1] Column\n",
       "        [0] Markdown(str)\n",
       "        [1] Str(None)\n",
       "        [2] Str(None)\n",
       "        [3] Str(None)\n",
       "    [2] Column\n",
       "        [0] Markdown(str)\n",
       "        [1] Str(None)\n",
       "        [2] Str(None)\n",
       "        [3] Str(None)\n",
       "    [3] Column\n",
       "        [0] Markdown(str)\n",
       "        [1] Str(None)\n",
       "        [2] Str(None)\n",
       "        [3] Str(None)"
      ]
     },
     "execution_count": 18,
     "metadata": {
      "application/vnd.holoviews_exec.v0+json": {
       "id": "1002"
      }
     },
     "output_type": "execute_result"
    }
   ],
   "source": [
    "# Create a Title for the Dashboard\n",
    "map_column = pn.Column(\n",
    "    \"## Map\", neighborhood_map()\n",
    ")\n",
    "\n",
    "price_column = pn.Column(\n",
    "    \"## Housing Price Info\", housing_units_per_year(), average_gross_rent(), average_sales_price()\n",
    ")\n",
    "\n",
    "neighb_column = pn.Column(\n",
    "    \"## Housing Pirce by Neighorbood\", average_price_by_neighborhood(), top_most_expensive_neighborhoods(), most_expensive_neighborhoods_rent_sales()\n",
    ")\n",
    "\n",
    "parallel_column = pn.Column(\n",
    "    \"## Parallel Analysis\", parallel_coordinates(), parallel_categories(), sunburst()\n",
    ")\n",
    "\n",
    "# Create a tab layout for the dashboard\n",
    "sfo_dashboard = pn.Tabs(\n",
    "    (\"Welcome\", map_column), \n",
    "    (\"Housing Price\", price_column),\n",
    "    (\"Housing Pirce by Neighorbood\", neighb_column),\n",
    "    (\"Parallel Analysis\", parallel_column),   \n",
    ")\n",
    "\n",
    "\n",
    "# Create the dashboard\n",
    "sfo_dashboard"
   ]
  },
  {
   "cell_type": "markdown",
   "metadata": {},
   "source": [
    "## Serve the Panel Dashboard"
   ]
  },
  {
   "cell_type": "code",
   "execution_count": 19,
   "metadata": {},
   "outputs": [
    {
     "data": {},
     "metadata": {},
     "output_type": "display_data"
    },
    {
     "data": {
      "application/vnd.holoviews_exec.v0+json": "",
      "text/html": [
       "<div id='1027'>\n",
       "\n",
       "\n",
       "\n",
       "\n",
       "\n",
       "  <div class=\"bk-root\" id=\"4b045f82-335d-4d69-a9d1-cedb0b7b36c1\" data-root-id=\"1027\"></div>\n",
       "</div>\n",
       "<script type=\"application/javascript\">(function(root) {\n",
       "  function embed_document(root) {\n",
       "    var docs_json = {\"db09bbf9-9d6f-4c5e-a0b8-281318b17e25\":{\"defs\":[],\"roots\":{\"references\":[{\"attributes\":{\"css_classes\":[\"markdown\"],\"margin\":[5,5,5,5],\"name\":\"Markdown01692\",\"text\":\"&lt;h2&gt;Housing Price Info&lt;/h2&gt;\"},\"id\":\"1033\",\"type\":\"panel.models.markup.HTML\"},{\"attributes\":{\"margin\":[5,5,5,5],\"name\":\"Str01712\"},\"id\":\"1046\",\"type\":\"panel.models.markup.HTML\"},{\"attributes\":{\"children\":[{\"id\":\"1045\"},{\"id\":\"1046\"},{\"id\":\"1047\"},{\"id\":\"1048\"}],\"margin\":[0,0,0,0],\"name\":\"Column01718\"},\"id\":\"1044\",\"type\":\"Column\"},{\"attributes\":{\"child\":{\"id\":\"1044\"},\"name\":\"Column01718\",\"title\":\"Parallel Analysis\"},\"id\":\"1049\",\"type\":\"Panel\"},{\"attributes\":{\"children\":[{\"id\":\"1029\"},{\"id\":\"1030\"}],\"margin\":[0,0,0,0],\"name\":\"Column01691\"},\"id\":\"1028\",\"type\":\"Column\"},{\"attributes\":{\"children\":[{\"id\":\"1033\"},{\"id\":\"1034\"},{\"id\":\"1035\"},{\"id\":\"1036\"}],\"margin\":[0,0,0,0],\"name\":\"Column01700\"},\"id\":\"1032\",\"type\":\"Column\"},{\"attributes\":{\"margin\":[5,5,5,5],\"name\":\"Str01703\"},\"id\":\"1040\",\"type\":\"panel.models.markup.HTML\"},{\"attributes\":{\"child\":{\"id\":\"1038\"},\"name\":\"Column01709\",\"title\":\"Housing Pirce by Neighorbood\"},\"id\":\"1043\",\"type\":\"Panel\"},{\"attributes\":{\"margin\":[5,5,5,5],\"name\":\"Str01689\"},\"id\":\"1030\",\"type\":\"panel.models.markup.HTML\"},{\"attributes\":{\"css_classes\":[\"markdown\"],\"margin\":[5,5,5,5],\"name\":\"Markdown01701\",\"text\":\"&lt;h2&gt;Housing Pirce by Neighorbood&lt;/h2&gt;\"},\"id\":\"1039\",\"type\":\"panel.models.markup.HTML\"},{\"attributes\":{\"css_classes\":[\"markdown\"],\"margin\":[5,5,5,5],\"name\":\"Markdown01710\",\"text\":\"&lt;h2&gt;Parallel Analysis&lt;/h2&gt;\"},\"id\":\"1045\",\"type\":\"panel.models.markup.HTML\"},{\"attributes\":{\"margin\":[5,5,5,5],\"name\":\"Str01716\"},\"id\":\"1048\",\"type\":\"panel.models.markup.HTML\"},{\"attributes\":{\"child\":{\"id\":\"1028\"},\"name\":\"Column01691\",\"title\":\"Welcome\"},\"id\":\"1031\",\"type\":\"Panel\"},{\"attributes\":{\"margin\":[5,5,5,5],\"name\":\"Str01698\"},\"id\":\"1036\",\"type\":\"panel.models.markup.HTML\"},{\"attributes\":{\"margin\":[5,5,5,5],\"name\":\"Str01705\"},\"id\":\"1041\",\"type\":\"panel.models.markup.HTML\"},{\"attributes\":{\"margin\":[5,5,5,5],\"name\":\"Str01714\"},\"id\":\"1047\",\"type\":\"panel.models.markup.HTML\"},{\"attributes\":{\"margin\":[0,0,0,0],\"tabs\":[{\"id\":\"1031\"},{\"id\":\"1037\"},{\"id\":\"1043\"},{\"id\":\"1049\"}]},\"id\":\"1027\",\"type\":\"Tabs\"},{\"attributes\":{\"margin\":[5,5,5,5],\"name\":\"Str01694\"},\"id\":\"1034\",\"type\":\"panel.models.markup.HTML\"},{\"attributes\":{\"children\":[{\"id\":\"1039\"},{\"id\":\"1040\"},{\"id\":\"1041\"},{\"id\":\"1042\"}],\"margin\":[0,0,0,0],\"name\":\"Column01709\"},\"id\":\"1038\",\"type\":\"Column\"},{\"attributes\":{\"margin\":[5,5,5,5],\"name\":\"Str01707\"},\"id\":\"1042\",\"type\":\"panel.models.markup.HTML\"},{\"attributes\":{\"child\":{\"id\":\"1032\"},\"name\":\"Column01700\",\"title\":\"Housing Price\"},\"id\":\"1037\",\"type\":\"Panel\"},{\"attributes\":{\"client_comm_id\":\"7fda43fa32144667810bcf6a6144bb35\",\"comm_id\":\"c5637a64047643799e4f1375ac723d1d\",\"plot_id\":\"1027\"},\"id\":\"1050\",\"type\":\"panel.models.comm_manager.CommManager\"},{\"attributes\":{\"css_classes\":[\"markdown\"],\"margin\":[5,5,5,5],\"name\":\"Markdown01687\",\"text\":\"&lt;h2&gt;Map&lt;/h2&gt;\"},\"id\":\"1029\",\"type\":\"panel.models.markup.HTML\"},{\"attributes\":{\"margin\":[5,5,5,5],\"name\":\"Str01696\"},\"id\":\"1035\",\"type\":\"panel.models.markup.HTML\"}],\"root_ids\":[\"1027\",\"1050\"]},\"title\":\"Bokeh Application\",\"version\":\"2.3.1\"}};\n",
       "    var render_items = [{\"docid\":\"db09bbf9-9d6f-4c5e-a0b8-281318b17e25\",\"root_ids\":[\"1027\"],\"roots\":{\"1027\":\"4b045f82-335d-4d69-a9d1-cedb0b7b36c1\"}}];\n",
       "    root.Bokeh.embed.embed_items_notebook(docs_json, render_items);\n",
       "  }\n",
       "  if (root.Bokeh !== undefined && root.Bokeh.Panel !== undefined && root['Plotly'] !== undefined ) {\n",
       "    embed_document(root);\n",
       "  } else {\n",
       "    var attempts = 0;\n",
       "    var timer = setInterval(function(root) {\n",
       "      if (root.Bokeh !== undefined && root.Bokeh.Panel !== undefined && root['Plotly'] !== undefined) {\n",
       "        clearInterval(timer);\n",
       "        embed_document(root);\n",
       "      } else if (document.readyState == \"complete\") {\n",
       "        attempts++;\n",
       "        if (attempts > 100) {\n",
       "          clearInterval(timer);\n",
       "          console.log(\"Bokeh: ERROR: Unable to run BokehJS code because BokehJS library is missing\");\n",
       "        }\n",
       "      }\n",
       "    }, 10, root)\n",
       "  }\n",
       "})(window);</script>"
      ],
      "text/plain": [
       "Tabs\n",
       "    [0] Column\n",
       "        [0] Markdown(str)\n",
       "        [1] Str(None)\n",
       "    [1] Column\n",
       "        [0] Markdown(str)\n",
       "        [1] Str(None)\n",
       "        [2] Str(None)\n",
       "        [3] Str(None)\n",
       "    [2] Column\n",
       "        [0] Markdown(str)\n",
       "        [1] Str(None)\n",
       "        [2] Str(None)\n",
       "        [3] Str(None)\n",
       "    [3] Column\n",
       "        [0] Markdown(str)\n",
       "        [1] Str(None)\n",
       "        [2] Str(None)\n",
       "        [3] Str(None)"
      ]
     },
     "execution_count": 19,
     "metadata": {
      "application/vnd.holoviews_exec.v0+json": {
       "id": "1027"
      }
     },
     "output_type": "execute_result"
    }
   ],
   "source": [
    "# Serve the# dashboard\n",
    "sfo_dashboard.servable()"
   ]
  },
  {
   "cell_type": "markdown",
   "metadata": {},
   "source": [
    "# Debugging\n",
    "\n",
    "Note: Some of the Plotly express plots may not render in the notebook through the panel functions.\n",
    "\n",
    "However, you can test each plot by uncommenting the following code"
   ]
  },
  {
   "cell_type": "code",
   "execution_count": 27,
   "metadata": {},
   "outputs": [],
   "source": [
    "housing_units_per_year()"
   ]
  },
  {
   "cell_type": "code",
   "execution_count": 21,
   "metadata": {},
   "outputs": [],
   "source": [
    "average_gross_rent()"
   ]
  },
  {
   "cell_type": "code",
   "execution_count": 22,
   "metadata": {},
   "outputs": [],
   "source": [
    "average_sales_price()"
   ]
  },
  {
   "cell_type": "code",
   "execution_count": 23,
   "metadata": {},
   "outputs": [],
   "source": [
    "average_price_by_neighborhood()"
   ]
  },
  {
   "cell_type": "code",
   "execution_count": 24,
   "metadata": {},
   "outputs": [],
   "source": [
    "top_most_expensive_neighborhoods()"
   ]
  },
  {
   "cell_type": "code",
   "execution_count": 25,
   "metadata": {},
   "outputs": [],
   "source": [
    "most_expensive_neighborhoods_rent_sales()"
   ]
  },
  {
   "cell_type": "code",
   "execution_count": 31,
   "metadata": {},
   "outputs": [],
   "source": [
    "neighborhood_map()"
   ]
  },
  {
   "cell_type": "code",
   "execution_count": 28,
   "metadata": {},
   "outputs": [],
   "source": [
    "parallel_categories()"
   ]
  },
  {
   "cell_type": "code",
   "execution_count": 29,
   "metadata": {},
   "outputs": [],
   "source": [
    "parallel_coordinates()"
   ]
  },
  {
   "cell_type": "code",
   "execution_count": 30,
   "metadata": {},
   "outputs": [],
   "source": [
    "sunburst()"
   ]
  },
  {
   "cell_type": "code",
   "execution_count": null,
   "metadata": {},
   "outputs": [],
   "source": []
  }
 ],
 "metadata": {
  "file_extension": ".py",
  "kernelspec": {
   "display_name": "Python 3",
   "language": "python",
   "name": "python3"
  },
  "language_info": {
   "codemirror_mode": {
    "name": "ipython",
    "version": 3
   },
   "file_extension": ".py",
   "mimetype": "text/x-python",
   "name": "python",
   "nbconvert_exporter": "python",
   "pygments_lexer": "ipython3",
   "version": "3.7.9"
  },
  "mimetype": "text/x-python",
  "name": "python",
  "npconvert_exporter": "python",
  "pygments_lexer": "ipython3",
  "version": 3
 },
 "nbformat": 4,
 "nbformat_minor": 4
}
